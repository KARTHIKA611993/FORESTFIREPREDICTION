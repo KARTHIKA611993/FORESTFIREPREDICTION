{
  "nbformat": 4,
  "nbformat_minor": 0,
  "metadata": {
    "colab": {
      "name": "firetry.ipnb",
      "provenance": []
    },
    "kernelspec": {
      "name": "python3",
      "display_name": "Python 3"
    },
    "language_info": {
      "name": "python"
    }
  },
  "cells": [
    {
      "cell_type": "code",
      "metadata": {
        "id": "5WW3uih46Cvh"
      },
      "source": [
        "import numpy as np\n",
        "import pandas as pd\n",
        "from sklearn.linear_model import LogisticRegression\n",
        "from sklearn.model_selection import train_test_split\n",
        "import warnings\n",
        "import pickle\n",
        "warnings.filterwarnings(\"ignore\")\n",
        "\n",
        "data = pd.read_csv(\"Forest_fire.csv\")\n",
        "data = np.array(data)\n",
        "\n",
        "X = data[1:, 1:-1]\n",
        "y = data[1:, -1]\n",
        "y = y.astype('int')\n",
        "X = X.astype('int')\n",
        "# print(X,y)\n",
        "X_train, X_test, y_train, y_test = train_test_split(X, y, test_size=0.3, random_state=0)\n",
        "log_reg = LogisticRegression()\n",
        "\n",
        "\n",
        "log_reg.fit(X_train, y_train)\n",
        "\n",
        "pickle.dump(log_reg,open('model.pkl','wb'))\n",
        "\n"
      ],
      "execution_count": 3,
      "outputs": []
    },
    {
      "cell_type": "code",
      "metadata": {
        "colab": {
          "base_uri": "https://localhost:8080/",
          "height": 1000
        },
        "id": "FVArrbfJ66FK",
        "outputId": "24359146-4cd9-4937-f8e8-72a296f7326f"
      },
      "source": [
        "pip install streamlit"
      ],
      "execution_count": 4,
      "outputs": [
        {
          "output_type": "stream",
          "name": "stdout",
          "text": [
            "Collecting streamlit\n",
            "  Downloading streamlit-0.88.0-py2.py3-none-any.whl (8.0 MB)\n",
            "\u001b[K     |████████████████████████████████| 8.0 MB 7.4 MB/s \n",
            "\u001b[?25hCollecting blinker\n",
            "  Downloading blinker-1.4.tar.gz (111 kB)\n",
            "\u001b[K     |████████████████████████████████| 111 kB 74.6 MB/s \n",
            "\u001b[?25hRequirement already satisfied: pillow>=6.2.0 in /usr/local/lib/python3.7/dist-packages (from streamlit) (7.1.2)\n",
            "Requirement already satisfied: pandas>=0.21.0 in /usr/local/lib/python3.7/dist-packages (from streamlit) (1.1.5)\n",
            "Requirement already satisfied: attrs in /usr/local/lib/python3.7/dist-packages (from streamlit) (21.2.0)\n",
            "Requirement already satisfied: requests in /usr/local/lib/python3.7/dist-packages (from streamlit) (2.23.0)\n",
            "Requirement already satisfied: tzlocal in /usr/local/lib/python3.7/dist-packages (from streamlit) (1.5.1)\n",
            "Requirement already satisfied: altair>=3.2.0 in /usr/local/lib/python3.7/dist-packages (from streamlit) (4.1.0)\n",
            "Collecting validators\n",
            "  Downloading validators-0.18.2-py3-none-any.whl (19 kB)\n",
            "Requirement already satisfied: tornado>=5.0 in /usr/local/lib/python3.7/dist-packages (from streamlit) (5.1.1)\n",
            "Collecting base58\n",
            "  Downloading base58-2.1.0-py3-none-any.whl (5.6 kB)\n",
            "Requirement already satisfied: cachetools>=4.0 in /usr/local/lib/python3.7/dist-packages (from streamlit) (4.2.2)\n",
            "Requirement already satisfied: astor in /usr/local/lib/python3.7/dist-packages (from streamlit) (0.8.1)\n",
            "Requirement already satisfied: pyarrow in /usr/local/lib/python3.7/dist-packages (from streamlit) (3.0.0)\n",
            "Requirement already satisfied: click<8.0,>=7.0 in /usr/local/lib/python3.7/dist-packages (from streamlit) (7.1.2)\n",
            "Requirement already satisfied: numpy in /usr/local/lib/python3.7/dist-packages (from streamlit) (1.19.5)\n",
            "Collecting pydeck>=0.1.dev5\n",
            "  Downloading pydeck-0.7.0-py2.py3-none-any.whl (4.3 MB)\n",
            "\u001b[K     |████████████████████████████████| 4.3 MB 57.4 MB/s \n",
            "\u001b[?25hRequirement already satisfied: python-dateutil in /usr/local/lib/python3.7/dist-packages (from streamlit) (2.8.2)\n",
            "Requirement already satisfied: toml in /usr/local/lib/python3.7/dist-packages (from streamlit) (0.10.2)\n",
            "Collecting gitpython!=3.1.19\n",
            "  Downloading GitPython-3.1.18-py3-none-any.whl (170 kB)\n",
            "\u001b[K     |████████████████████████████████| 170 kB 65.2 MB/s \n",
            "\u001b[?25hRequirement already satisfied: protobuf!=3.11,>=3.6.0 in /usr/local/lib/python3.7/dist-packages (from streamlit) (3.17.3)\n",
            "Collecting watchdog\n",
            "  Downloading watchdog-2.1.5-py3-none-manylinux2014_x86_64.whl (75 kB)\n",
            "\u001b[K     |████████████████████████████████| 75 kB 5.5 MB/s \n",
            "\u001b[?25hRequirement already satisfied: packaging in /usr/local/lib/python3.7/dist-packages (from streamlit) (21.0)\n",
            "Requirement already satisfied: jsonschema in /usr/local/lib/python3.7/dist-packages (from altair>=3.2.0->streamlit) (2.6.0)\n",
            "Requirement already satisfied: entrypoints in /usr/local/lib/python3.7/dist-packages (from altair>=3.2.0->streamlit) (0.3)\n",
            "Requirement already satisfied: jinja2 in /usr/local/lib/python3.7/dist-packages (from altair>=3.2.0->streamlit) (2.11.3)\n",
            "Requirement already satisfied: toolz in /usr/local/lib/python3.7/dist-packages (from altair>=3.2.0->streamlit) (0.11.1)\n",
            "Requirement already satisfied: typing-extensions>=3.7.4.0 in /usr/local/lib/python3.7/dist-packages (from gitpython!=3.1.19->streamlit) (3.7.4.3)\n",
            "Collecting gitdb<5,>=4.0.1\n",
            "  Downloading gitdb-4.0.7-py3-none-any.whl (63 kB)\n",
            "\u001b[K     |████████████████████████████████| 63 kB 2.4 MB/s \n",
            "\u001b[?25hCollecting smmap<5,>=3.0.1\n",
            "  Downloading smmap-4.0.0-py2.py3-none-any.whl (24 kB)\n",
            "Requirement already satisfied: pytz>=2017.2 in /usr/local/lib/python3.7/dist-packages (from pandas>=0.21.0->streamlit) (2018.9)\n",
            "Requirement already satisfied: six>=1.9 in /usr/local/lib/python3.7/dist-packages (from protobuf!=3.11,>=3.6.0->streamlit) (1.15.0)\n",
            "Collecting ipykernel>=5.1.2\n",
            "  Downloading ipykernel-6.4.1-py3-none-any.whl (124 kB)\n",
            "\u001b[K     |████████████████████████████████| 124 kB 66.7 MB/s \n",
            "\u001b[?25hRequirement already satisfied: traitlets>=4.3.2 in /usr/local/lib/python3.7/dist-packages (from pydeck>=0.1.dev5->streamlit) (5.0.5)\n",
            "Requirement already satisfied: ipywidgets>=7.0.0 in /usr/local/lib/python3.7/dist-packages (from pydeck>=0.1.dev5->streamlit) (7.6.3)\n",
            "Requirement already satisfied: ipython-genutils in /usr/local/lib/python3.7/dist-packages (from ipykernel>=5.1.2->pydeck>=0.1.dev5->streamlit) (0.2.0)\n",
            "Requirement already satisfied: argcomplete>=1.12.3 in /usr/local/lib/python3.7/dist-packages (from ipykernel>=5.1.2->pydeck>=0.1.dev5->streamlit) (1.12.3)\n",
            "Collecting ipython<8.0,>=7.23.1\n",
            "  Downloading ipython-7.27.0-py3-none-any.whl (787 kB)\n",
            "\u001b[K     |████████████████████████████████| 787 kB 64.7 MB/s \n",
            "\u001b[?25hRequirement already satisfied: matplotlib-inline<0.2.0,>=0.1.0 in /usr/local/lib/python3.7/dist-packages (from ipykernel>=5.1.2->pydeck>=0.1.dev5->streamlit) (0.1.2)\n",
            "Requirement already satisfied: importlib-metadata<5 in /usr/local/lib/python3.7/dist-packages (from ipykernel>=5.1.2->pydeck>=0.1.dev5->streamlit) (4.6.4)\n",
            "Requirement already satisfied: jupyter-client<8.0 in /usr/local/lib/python3.7/dist-packages (from ipykernel>=5.1.2->pydeck>=0.1.dev5->streamlit) (5.3.5)\n",
            "Requirement already satisfied: debugpy<2.0,>=1.0.0 in /usr/local/lib/python3.7/dist-packages (from ipykernel>=5.1.2->pydeck>=0.1.dev5->streamlit) (1.0.0)\n",
            "Requirement already satisfied: zipp>=0.5 in /usr/local/lib/python3.7/dist-packages (from importlib-metadata<5->ipykernel>=5.1.2->pydeck>=0.1.dev5->streamlit) (3.5.0)\n",
            "Requirement already satisfied: backcall in /usr/local/lib/python3.7/dist-packages (from ipython<8.0,>=7.23.1->ipykernel>=5.1.2->pydeck>=0.1.dev5->streamlit) (0.2.0)\n",
            "Requirement already satisfied: pexpect>4.3 in /usr/local/lib/python3.7/dist-packages (from ipython<8.0,>=7.23.1->ipykernel>=5.1.2->pydeck>=0.1.dev5->streamlit) (4.8.0)\n",
            "Requirement already satisfied: decorator in /usr/local/lib/python3.7/dist-packages (from ipython<8.0,>=7.23.1->ipykernel>=5.1.2->pydeck>=0.1.dev5->streamlit) (4.4.2)\n",
            "Requirement already satisfied: setuptools>=18.5 in /usr/local/lib/python3.7/dist-packages (from ipython<8.0,>=7.23.1->ipykernel>=5.1.2->pydeck>=0.1.dev5->streamlit) (57.4.0)\n",
            "Collecting prompt-toolkit!=3.0.0,!=3.0.1,<3.1.0,>=2.0.0\n",
            "  Downloading prompt_toolkit-3.0.20-py3-none-any.whl (370 kB)\n",
            "\u001b[K     |████████████████████████████████| 370 kB 64.4 MB/s \n",
            "\u001b[?25hRequirement already satisfied: pickleshare in /usr/local/lib/python3.7/dist-packages (from ipython<8.0,>=7.23.1->ipykernel>=5.1.2->pydeck>=0.1.dev5->streamlit) (0.7.5)\n",
            "Requirement already satisfied: pygments in /usr/local/lib/python3.7/dist-packages (from ipython<8.0,>=7.23.1->ipykernel>=5.1.2->pydeck>=0.1.dev5->streamlit) (2.6.1)\n",
            "Requirement already satisfied: jedi>=0.16 in /usr/local/lib/python3.7/dist-packages (from ipython<8.0,>=7.23.1->ipykernel>=5.1.2->pydeck>=0.1.dev5->streamlit) (0.18.0)\n",
            "Requirement already satisfied: jupyterlab-widgets>=1.0.0 in /usr/local/lib/python3.7/dist-packages (from ipywidgets>=7.0.0->pydeck>=0.1.dev5->streamlit) (1.0.0)\n",
            "Requirement already satisfied: nbformat>=4.2.0 in /usr/local/lib/python3.7/dist-packages (from ipywidgets>=7.0.0->pydeck>=0.1.dev5->streamlit) (5.1.3)\n",
            "Requirement already satisfied: widgetsnbextension~=3.5.0 in /usr/local/lib/python3.7/dist-packages (from ipywidgets>=7.0.0->pydeck>=0.1.dev5->streamlit) (3.5.1)\n",
            "Requirement already satisfied: parso<0.9.0,>=0.8.0 in /usr/local/lib/python3.7/dist-packages (from jedi>=0.16->ipython<8.0,>=7.23.1->ipykernel>=5.1.2->pydeck>=0.1.dev5->streamlit) (0.8.2)\n",
            "Requirement already satisfied: MarkupSafe>=0.23 in /usr/local/lib/python3.7/dist-packages (from jinja2->altair>=3.2.0->streamlit) (2.0.1)\n",
            "Requirement already satisfied: pyzmq>=13 in /usr/local/lib/python3.7/dist-packages (from jupyter-client<8.0->ipykernel>=5.1.2->pydeck>=0.1.dev5->streamlit) (22.2.1)\n",
            "Requirement already satisfied: jupyter-core>=4.6.0 in /usr/local/lib/python3.7/dist-packages (from jupyter-client<8.0->ipykernel>=5.1.2->pydeck>=0.1.dev5->streamlit) (4.7.1)\n",
            "Requirement already satisfied: ptyprocess>=0.5 in /usr/local/lib/python3.7/dist-packages (from pexpect>4.3->ipython<8.0,>=7.23.1->ipykernel>=5.1.2->pydeck>=0.1.dev5->streamlit) (0.7.0)\n",
            "Requirement already satisfied: wcwidth in /usr/local/lib/python3.7/dist-packages (from prompt-toolkit!=3.0.0,!=3.0.1,<3.1.0,>=2.0.0->ipython<8.0,>=7.23.1->ipykernel>=5.1.2->pydeck>=0.1.dev5->streamlit) (0.2.5)\n",
            "Requirement already satisfied: notebook>=4.4.1 in /usr/local/lib/python3.7/dist-packages (from widgetsnbextension~=3.5.0->ipywidgets>=7.0.0->pydeck>=0.1.dev5->streamlit) (5.3.1)\n",
            "Requirement already satisfied: terminado>=0.8.1 in /usr/local/lib/python3.7/dist-packages (from notebook>=4.4.1->widgetsnbextension~=3.5.0->ipywidgets>=7.0.0->pydeck>=0.1.dev5->streamlit) (0.11.0)\n",
            "Requirement already satisfied: Send2Trash in /usr/local/lib/python3.7/dist-packages (from notebook>=4.4.1->widgetsnbextension~=3.5.0->ipywidgets>=7.0.0->pydeck>=0.1.dev5->streamlit) (1.8.0)\n",
            "Requirement already satisfied: nbconvert in /usr/local/lib/python3.7/dist-packages (from notebook>=4.4.1->widgetsnbextension~=3.5.0->ipywidgets>=7.0.0->pydeck>=0.1.dev5->streamlit) (5.6.1)\n",
            "Requirement already satisfied: bleach in /usr/local/lib/python3.7/dist-packages (from nbconvert->notebook>=4.4.1->widgetsnbextension~=3.5.0->ipywidgets>=7.0.0->pydeck>=0.1.dev5->streamlit) (4.0.0)\n",
            "Requirement already satisfied: testpath in /usr/local/lib/python3.7/dist-packages (from nbconvert->notebook>=4.4.1->widgetsnbextension~=3.5.0->ipywidgets>=7.0.0->pydeck>=0.1.dev5->streamlit) (0.5.0)\n",
            "Requirement already satisfied: defusedxml in /usr/local/lib/python3.7/dist-packages (from nbconvert->notebook>=4.4.1->widgetsnbextension~=3.5.0->ipywidgets>=7.0.0->pydeck>=0.1.dev5->streamlit) (0.7.1)\n",
            "Requirement already satisfied: pandocfilters>=1.4.1 in /usr/local/lib/python3.7/dist-packages (from nbconvert->notebook>=4.4.1->widgetsnbextension~=3.5.0->ipywidgets>=7.0.0->pydeck>=0.1.dev5->streamlit) (1.4.3)\n",
            "Requirement already satisfied: mistune<2,>=0.8.1 in /usr/local/lib/python3.7/dist-packages (from nbconvert->notebook>=4.4.1->widgetsnbextension~=3.5.0->ipywidgets>=7.0.0->pydeck>=0.1.dev5->streamlit) (0.8.4)\n",
            "Requirement already satisfied: webencodings in /usr/local/lib/python3.7/dist-packages (from bleach->nbconvert->notebook>=4.4.1->widgetsnbextension~=3.5.0->ipywidgets>=7.0.0->pydeck>=0.1.dev5->streamlit) (0.5.1)\n",
            "Requirement already satisfied: pyparsing>=2.0.2 in /usr/local/lib/python3.7/dist-packages (from packaging->streamlit) (2.4.7)\n",
            "Requirement already satisfied: chardet<4,>=3.0.2 in /usr/local/lib/python3.7/dist-packages (from requests->streamlit) (3.0.4)\n",
            "Requirement already satisfied: idna<3,>=2.5 in /usr/local/lib/python3.7/dist-packages (from requests->streamlit) (2.10)\n",
            "Requirement already satisfied: certifi>=2017.4.17 in /usr/local/lib/python3.7/dist-packages (from requests->streamlit) (2021.5.30)\n",
            "Requirement already satisfied: urllib3!=1.25.0,!=1.25.1,<1.26,>=1.21.1 in /usr/local/lib/python3.7/dist-packages (from requests->streamlit) (1.24.3)\n",
            "Building wheels for collected packages: blinker\n",
            "  Building wheel for blinker (setup.py) ... \u001b[?25l\u001b[?25hdone\n",
            "  Created wheel for blinker: filename=blinker-1.4-py3-none-any.whl size=13478 sha256=81426aff021a250038ee964a81b11ae9e657c021aee619db768cf95854defb22\n",
            "  Stored in directory: /root/.cache/pip/wheels/22/f5/18/df711b66eb25b21325c132757d4314db9ac5e8dabeaf196eab\n",
            "Successfully built blinker\n",
            "Installing collected packages: prompt-toolkit, ipython, ipykernel, smmap, gitdb, watchdog, validators, pydeck, gitpython, blinker, base58, streamlit\n",
            "  Attempting uninstall: prompt-toolkit\n",
            "    Found existing installation: prompt-toolkit 1.0.18\n",
            "    Uninstalling prompt-toolkit-1.0.18:\n",
            "      Successfully uninstalled prompt-toolkit-1.0.18\n",
            "  Attempting uninstall: ipython\n",
            "    Found existing installation: ipython 5.5.0\n",
            "    Uninstalling ipython-5.5.0:\n",
            "      Successfully uninstalled ipython-5.5.0\n",
            "  Attempting uninstall: ipykernel\n",
            "    Found existing installation: ipykernel 4.10.1\n",
            "    Uninstalling ipykernel-4.10.1:\n",
            "      Successfully uninstalled ipykernel-4.10.1\n",
            "\u001b[31mERROR: pip's dependency resolver does not currently take into account all the packages that are installed. This behaviour is the source of the following dependency conflicts.\n",
            "jupyter-console 5.2.0 requires prompt-toolkit<2.0.0,>=1.0.0, but you have prompt-toolkit 3.0.20 which is incompatible.\n",
            "google-colab 1.0.0 requires ipykernel~=4.10, but you have ipykernel 6.4.1 which is incompatible.\n",
            "google-colab 1.0.0 requires ipython~=5.5.0, but you have ipython 7.27.0 which is incompatible.\u001b[0m\n",
            "Successfully installed base58-2.1.0 blinker-1.4 gitdb-4.0.7 gitpython-3.1.18 ipykernel-6.4.1 ipython-7.27.0 prompt-toolkit-3.0.20 pydeck-0.7.0 smmap-4.0.0 streamlit-0.88.0 validators-0.18.2 watchdog-2.1.5\n"
          ]
        },
        {
          "output_type": "display_data",
          "data": {
            "application/vnd.colab-display-data+json": {
              "pip_warning": {
                "packages": [
                  "IPython",
                  "ipykernel",
                  "prompt_toolkit"
                ]
              }
            }
          },
          "metadata": {}
        }
      ]
    },
    {
      "cell_type": "code",
      "metadata": {
        "colab": {
          "base_uri": "https://localhost:8080/",
          "height": 768
        },
        "id": "X8Nq2j6m6_ya",
        "outputId": "2040a5a2-3849-4652-abb1-c1c1ce5193b4"
      },
      "source": [
        "pip install ipykernel==4.10"
      ],
      "execution_count": 5,
      "outputs": [
        {
          "output_type": "stream",
          "name": "stdout",
          "text": [
            "Collecting ipykernel==4.10\n",
            "  Downloading ipykernel-4.10.0-py3-none-any.whl (109 kB)\n",
            "\u001b[?25l\r\u001b[K     |███                             | 10 kB 31.0 MB/s eta 0:00:01\r\u001b[K     |██████                          | 20 kB 23.7 MB/s eta 0:00:01\r\u001b[K     |█████████                       | 30 kB 17.6 MB/s eta 0:00:01\r\u001b[K     |████████████                    | 40 kB 15.0 MB/s eta 0:00:01\r\u001b[K     |███████████████                 | 51 kB 7.1 MB/s eta 0:00:01\r\u001b[K     |█████████████████▉              | 61 kB 8.4 MB/s eta 0:00:01\r\u001b[K     |████████████████████▉           | 71 kB 8.0 MB/s eta 0:00:01\r\u001b[K     |███████████████████████▉        | 81 kB 8.9 MB/s eta 0:00:01\r\u001b[K     |██████████████████████████▉     | 92 kB 9.2 MB/s eta 0:00:01\r\u001b[K     |█████████████████████████████▉  | 102 kB 7.1 MB/s eta 0:00:01\r\u001b[K     |████████████████████████████████| 109 kB 7.1 MB/s \n",
            "\u001b[?25hRequirement already satisfied: tornado>=4.0 in /usr/local/lib/python3.7/dist-packages (from ipykernel==4.10) (5.1.1)\n",
            "Requirement already satisfied: ipython>=4.0.0 in /usr/local/lib/python3.7/dist-packages (from ipykernel==4.10) (7.27.0)\n",
            "Requirement already satisfied: jupyter-client in /usr/local/lib/python3.7/dist-packages (from ipykernel==4.10) (5.3.5)\n",
            "Requirement already satisfied: traitlets>=4.1.0 in /usr/local/lib/python3.7/dist-packages (from ipykernel==4.10) (5.0.5)\n",
            "Requirement already satisfied: jedi>=0.16 in /usr/local/lib/python3.7/dist-packages (from ipython>=4.0.0->ipykernel==4.10) (0.18.0)\n",
            "Requirement already satisfied: decorator in /usr/local/lib/python3.7/dist-packages (from ipython>=4.0.0->ipykernel==4.10) (4.4.2)\n",
            "Requirement already satisfied: prompt-toolkit!=3.0.0,!=3.0.1,<3.1.0,>=2.0.0 in /usr/local/lib/python3.7/dist-packages (from ipython>=4.0.0->ipykernel==4.10) (3.0.20)\n",
            "Requirement already satisfied: pygments in /usr/local/lib/python3.7/dist-packages (from ipython>=4.0.0->ipykernel==4.10) (2.6.1)\n",
            "Requirement already satisfied: backcall in /usr/local/lib/python3.7/dist-packages (from ipython>=4.0.0->ipykernel==4.10) (0.2.0)\n",
            "Requirement already satisfied: matplotlib-inline in /usr/local/lib/python3.7/dist-packages (from ipython>=4.0.0->ipykernel==4.10) (0.1.2)\n",
            "Requirement already satisfied: setuptools>=18.5 in /usr/local/lib/python3.7/dist-packages (from ipython>=4.0.0->ipykernel==4.10) (57.4.0)\n",
            "Requirement already satisfied: pickleshare in /usr/local/lib/python3.7/dist-packages (from ipython>=4.0.0->ipykernel==4.10) (0.7.5)\n",
            "Requirement already satisfied: pexpect>4.3 in /usr/local/lib/python3.7/dist-packages (from ipython>=4.0.0->ipykernel==4.10) (4.8.0)\n",
            "Requirement already satisfied: parso<0.9.0,>=0.8.0 in /usr/local/lib/python3.7/dist-packages (from jedi>=0.16->ipython>=4.0.0->ipykernel==4.10) (0.8.2)\n",
            "Requirement already satisfied: ptyprocess>=0.5 in /usr/local/lib/python3.7/dist-packages (from pexpect>4.3->ipython>=4.0.0->ipykernel==4.10) (0.7.0)\n",
            "Requirement already satisfied: wcwidth in /usr/local/lib/python3.7/dist-packages (from prompt-toolkit!=3.0.0,!=3.0.1,<3.1.0,>=2.0.0->ipython>=4.0.0->ipykernel==4.10) (0.2.5)\n",
            "Requirement already satisfied: ipython-genutils in /usr/local/lib/python3.7/dist-packages (from traitlets>=4.1.0->ipykernel==4.10) (0.2.0)\n",
            "Requirement already satisfied: jupyter-core>=4.6.0 in /usr/local/lib/python3.7/dist-packages (from jupyter-client->ipykernel==4.10) (4.7.1)\n",
            "Requirement already satisfied: python-dateutil>=2.1 in /usr/local/lib/python3.7/dist-packages (from jupyter-client->ipykernel==4.10) (2.8.2)\n",
            "Requirement already satisfied: pyzmq>=13 in /usr/local/lib/python3.7/dist-packages (from jupyter-client->ipykernel==4.10) (22.2.1)\n",
            "Requirement already satisfied: six>=1.5 in /usr/local/lib/python3.7/dist-packages (from python-dateutil>=2.1->jupyter-client->ipykernel==4.10) (1.15.0)\n",
            "Installing collected packages: ipykernel\n",
            "  Attempting uninstall: ipykernel\n",
            "    Found existing installation: ipykernel 6.4.1\n",
            "    Uninstalling ipykernel-6.4.1:\n",
            "      Successfully uninstalled ipykernel-6.4.1\n",
            "\u001b[31mERROR: pip's dependency resolver does not currently take into account all the packages that are installed. This behaviour is the source of the following dependency conflicts.\n",
            "pydeck 0.7.0 requires ipykernel>=5.1.2; python_version >= \"3.4\", but you have ipykernel 4.10.0 which is incompatible.\n",
            "jupyter-console 5.2.0 requires prompt-toolkit<2.0.0,>=1.0.0, but you have prompt-toolkit 3.0.20 which is incompatible.\n",
            "google-colab 1.0.0 requires ipython~=5.5.0, but you have ipython 7.27.0 which is incompatible.\u001b[0m\n",
            "Successfully installed ipykernel-4.10.0\n"
          ]
        },
        {
          "output_type": "display_data",
          "data": {
            "application/vnd.colab-display-data+json": {
              "pip_warning": {
                "packages": [
                  "ipykernel"
                ]
              }
            }
          },
          "metadata": {}
        }
      ]
    },
    {
      "cell_type": "code",
      "metadata": {
        "id": "CYmEBtvp7MO7"
      },
      "source": [
        "import streamlit"
      ],
      "execution_count": 1,
      "outputs": []
    },
    {
      "cell_type": "code",
      "metadata": {
        "colab": {
          "base_uri": "https://localhost:8080/"
        },
        "id": "Vvt5AM-Q7WSM",
        "outputId": "894e347a-af9f-4ae1-a62a-649396bb4853"
      },
      "source": [
        "pip install pyngrok"
      ],
      "execution_count": 2,
      "outputs": [
        {
          "output_type": "stream",
          "name": "stdout",
          "text": [
            "Collecting pyngrok\n",
            "  Downloading pyngrok-5.1.0.tar.gz (745 kB)\n",
            "\u001b[?25l\r\u001b[K     |▍                               | 10 kB 30.7 MB/s eta 0:00:01\r\u001b[K     |▉                               | 20 kB 20.6 MB/s eta 0:00:01\r\u001b[K     |█▎                              | 30 kB 15.8 MB/s eta 0:00:01\r\u001b[K     |█▊                              | 40 kB 13.8 MB/s eta 0:00:01\r\u001b[K     |██▏                             | 51 kB 6.4 MB/s eta 0:00:01\r\u001b[K     |██▋                             | 61 kB 6.9 MB/s eta 0:00:01\r\u001b[K     |███                             | 71 kB 7.3 MB/s eta 0:00:01\r\u001b[K     |███▌                            | 81 kB 8.2 MB/s eta 0:00:01\r\u001b[K     |████                            | 92 kB 8.4 MB/s eta 0:00:01\r\u001b[K     |████▍                           | 102 kB 6.4 MB/s eta 0:00:01\r\u001b[K     |████▉                           | 112 kB 6.4 MB/s eta 0:00:01\r\u001b[K     |█████▎                          | 122 kB 6.4 MB/s eta 0:00:01\r\u001b[K     |█████▊                          | 133 kB 6.4 MB/s eta 0:00:01\r\u001b[K     |██████▏                         | 143 kB 6.4 MB/s eta 0:00:01\r\u001b[K     |██████▋                         | 153 kB 6.4 MB/s eta 0:00:01\r\u001b[K     |███████                         | 163 kB 6.4 MB/s eta 0:00:01\r\u001b[K     |███████▌                        | 174 kB 6.4 MB/s eta 0:00:01\r\u001b[K     |████████                        | 184 kB 6.4 MB/s eta 0:00:01\r\u001b[K     |████████▍                       | 194 kB 6.4 MB/s eta 0:00:01\r\u001b[K     |████████▉                       | 204 kB 6.4 MB/s eta 0:00:01\r\u001b[K     |█████████▎                      | 215 kB 6.4 MB/s eta 0:00:01\r\u001b[K     |█████████▊                      | 225 kB 6.4 MB/s eta 0:00:01\r\u001b[K     |██████████▏                     | 235 kB 6.4 MB/s eta 0:00:01\r\u001b[K     |██████████▌                     | 245 kB 6.4 MB/s eta 0:00:01\r\u001b[K     |███████████                     | 256 kB 6.4 MB/s eta 0:00:01\r\u001b[K     |███████████▍                    | 266 kB 6.4 MB/s eta 0:00:01\r\u001b[K     |███████████▉                    | 276 kB 6.4 MB/s eta 0:00:01\r\u001b[K     |████████████▎                   | 286 kB 6.4 MB/s eta 0:00:01\r\u001b[K     |████████████▊                   | 296 kB 6.4 MB/s eta 0:00:01\r\u001b[K     |█████████████▏                  | 307 kB 6.4 MB/s eta 0:00:01\r\u001b[K     |█████████████▋                  | 317 kB 6.4 MB/s eta 0:00:01\r\u001b[K     |██████████████                  | 327 kB 6.4 MB/s eta 0:00:01\r\u001b[K     |██████████████▌                 | 337 kB 6.4 MB/s eta 0:00:01\r\u001b[K     |███████████████                 | 348 kB 6.4 MB/s eta 0:00:01\r\u001b[K     |███████████████▍                | 358 kB 6.4 MB/s eta 0:00:01\r\u001b[K     |███████████████▉                | 368 kB 6.4 MB/s eta 0:00:01\r\u001b[K     |████████████████▎               | 378 kB 6.4 MB/s eta 0:00:01\r\u001b[K     |████████████████▊               | 389 kB 6.4 MB/s eta 0:00:01\r\u001b[K     |█████████████████▏              | 399 kB 6.4 MB/s eta 0:00:01\r\u001b[K     |█████████████████▋              | 409 kB 6.4 MB/s eta 0:00:01\r\u001b[K     |██████████████████              | 419 kB 6.4 MB/s eta 0:00:01\r\u001b[K     |██████████████████▌             | 430 kB 6.4 MB/s eta 0:00:01\r\u001b[K     |███████████████████             | 440 kB 6.4 MB/s eta 0:00:01\r\u001b[K     |███████████████████▍            | 450 kB 6.4 MB/s eta 0:00:01\r\u001b[K     |███████████████████▉            | 460 kB 6.4 MB/s eta 0:00:01\r\u001b[K     |████████████████████▎           | 471 kB 6.4 MB/s eta 0:00:01\r\u001b[K     |████████████████████▋           | 481 kB 6.4 MB/s eta 0:00:01\r\u001b[K     |█████████████████████           | 491 kB 6.4 MB/s eta 0:00:01\r\u001b[K     |█████████████████████▌          | 501 kB 6.4 MB/s eta 0:00:01\r\u001b[K     |██████████████████████          | 512 kB 6.4 MB/s eta 0:00:01\r\u001b[K     |██████████████████████▍         | 522 kB 6.4 MB/s eta 0:00:01\r\u001b[K     |██████████████████████▉         | 532 kB 6.4 MB/s eta 0:00:01\r\u001b[K     |███████████████████████▎        | 542 kB 6.4 MB/s eta 0:00:01\r\u001b[K     |███████████████████████▊        | 552 kB 6.4 MB/s eta 0:00:01\r\u001b[K     |████████████████████████▏       | 563 kB 6.4 MB/s eta 0:00:01\r\u001b[K     |████████████████████████▋       | 573 kB 6.4 MB/s eta 0:00:01\r\u001b[K     |█████████████████████████       | 583 kB 6.4 MB/s eta 0:00:01\r\u001b[K     |█████████████████████████▌      | 593 kB 6.4 MB/s eta 0:00:01\r\u001b[K     |██████████████████████████      | 604 kB 6.4 MB/s eta 0:00:01\r\u001b[K     |██████████████████████████▍     | 614 kB 6.4 MB/s eta 0:00:01\r\u001b[K     |██████████████████████████▉     | 624 kB 6.4 MB/s eta 0:00:01\r\u001b[K     |███████████████████████████▎    | 634 kB 6.4 MB/s eta 0:00:01\r\u001b[K     |███████████████████████████▊    | 645 kB 6.4 MB/s eta 0:00:01\r\u001b[K     |████████████████████████████▏   | 655 kB 6.4 MB/s eta 0:00:01\r\u001b[K     |████████████████████████████▋   | 665 kB 6.4 MB/s eta 0:00:01\r\u001b[K     |█████████████████████████████   | 675 kB 6.4 MB/s eta 0:00:01\r\u001b[K     |█████████████████████████████▌  | 686 kB 6.4 MB/s eta 0:00:01\r\u001b[K     |██████████████████████████████  | 696 kB 6.4 MB/s eta 0:00:01\r\u001b[K     |██████████████████████████████▍ | 706 kB 6.4 MB/s eta 0:00:01\r\u001b[K     |██████████████████████████████▊ | 716 kB 6.4 MB/s eta 0:00:01\r\u001b[K     |███████████████████████████████▏| 727 kB 6.4 MB/s eta 0:00:01\r\u001b[K     |███████████████████████████████▋| 737 kB 6.4 MB/s eta 0:00:01\r\u001b[K     |████████████████████████████████| 745 kB 6.4 MB/s \n",
            "\u001b[?25hRequirement already satisfied: PyYAML in /usr/local/lib/python3.7/dist-packages (from pyngrok) (3.13)\n",
            "Building wheels for collected packages: pyngrok\n",
            "  Building wheel for pyngrok (setup.py) ... \u001b[?25l\u001b[?25hdone\n",
            "  Created wheel for pyngrok: filename=pyngrok-5.1.0-py3-none-any.whl size=19006 sha256=6be63d5da9d87be5d6954e253c9a35625703eba58b496b186b5a690baed56eae\n",
            "  Stored in directory: /root/.cache/pip/wheels/bf/e6/af/ccf6598ecefecd44104069371795cb9b3afbcd16987f6ccfb3\n",
            "Successfully built pyngrok\n",
            "Installing collected packages: pyngrok\n",
            "Successfully installed pyngrok-5.1.0\n"
          ]
        }
      ]
    },
    {
      "cell_type": "code",
      "metadata": {
        "colab": {
          "base_uri": "https://localhost:8080/"
        },
        "id": "hoMg3YL67eI3",
        "outputId": "076f25cc-82ce-4784-e86a-f93cb575090a"
      },
      "source": [
        "from pyngrok import ngrok\n",
        "public_url = ngrok.connect(port='80')\n",
        "print (public_url)"
      ],
      "execution_count": 3,
      "outputs": [
        {
          "output_type": "stream",
          "name": "stderr",
          "text": [
            "2021-09-14 10:50:32.371 INFO    pyngrok.ngrok: Opening tunnel named: http-80-df1e6a7b-5b00-46c1-9a78-b454876a737a\n"
          ]
        },
        {
          "output_type": "stream",
          "name": "stdout",
          "text": [
            ""
          ]
        },
        {
          "output_type": "stream",
          "name": "stderr",
          "text": [
            "2021-09-14 10:50:33.666 INFO    pyngrok.process.ngrok: t=2021-09-14T10:50:33+0000 lvl=info msg=\"no configuration paths supplied\"\n",
            "2021-09-14 10:50:33.668 INFO    pyngrok.process.ngrok: t=2021-09-14T10:50:33+0000 lvl=info msg=\"using configuration at default config path\" path=/root/.ngrok2/ngrok.yml\n",
            "2021-09-14 10:50:33.672 INFO    pyngrok.process.ngrok: t=2021-09-14T10:50:33+0000 lvl=info msg=\"open config file\" path=/root/.ngrok2/ngrok.yml err=nil\n",
            "2021-09-14 10:50:33.675 INFO    pyngrok.process.ngrok: t=2021-09-14T10:50:33+0000 lvl=info msg=\"starting web service\" obj=web addr=127.0.0.1:4040\n",
            "2021-09-14 10:50:33.890 INFO    pyngrok.process.ngrok: t=2021-09-14T10:50:33+0000 lvl=info msg=\"tunnel session started\" obj=tunnels.session\n",
            "2021-09-14 10:50:33.892 INFO    pyngrok.process.ngrok: t=2021-09-14T10:50:33+0000 lvl=info msg=\"client session established\" obj=csess id=69f7930fd967\n",
            "2021-09-14 10:50:33.896 INFO    pyngrok.process.ngrok: t=2021-09-14T10:50:33+0000 lvl=info msg=start pg=/api/tunnels id=3176ba51ac71d900\n",
            "2021-09-14 10:50:33.899 INFO    pyngrok.process.ngrok: t=2021-09-14T10:50:33+0000 lvl=info msg=end pg=/api/tunnels id=3176ba51ac71d900 status=200 dur=383.181µs\n",
            "2021-09-14 10:50:33.902 INFO    pyngrok.process.ngrok: t=2021-09-14T10:50:33+0000 lvl=info msg=start pg=/api/tunnels id=e6ea0a0cd32f6efa\n",
            "2021-09-14 10:50:33.904 INFO    pyngrok.process.ngrok: t=2021-09-14T10:50:33+0000 lvl=info msg=end pg=/api/tunnels id=e6ea0a0cd32f6efa status=200 dur=137.495µs\n",
            "2021-09-14 10:50:33.907 INFO    pyngrok.process.ngrok: t=2021-09-14T10:50:33+0000 lvl=info msg=start pg=/api/tunnels id=b3d5f98661a5ec72\n",
            "2021-09-14 10:50:34.046 INFO    pyngrok.process.ngrok: t=2021-09-14T10:50:34+0000 lvl=info msg=\"started tunnel\" obj=tunnels name=\"http-80-df1e6a7b-5b00-46c1-9a78-b454876a737a (http)\" addr=http://localhost:80 url=http://351a-34-125-47-24.ngrok.io\n"
          ]
        },
        {
          "output_type": "stream",
          "name": "stdout",
          "text": [
            "NgrokTunnel: \"http://351a-34-125-47-24.ngrok.io\" -> \"http://localhost:80\"\n"
          ]
        },
        {
          "output_type": "stream",
          "name": "stderr",
          "text": [
            "2021-09-14 10:50:34.053 INFO    pyngrok.process.ngrok: t=2021-09-14T10:50:34+0000 lvl=info msg=\"started tunnel\" obj=tunnels name=http-80-df1e6a7b-5b00-46c1-9a78-b454876a737a addr=http://localhost:80 url=https://351a-34-125-47-24.ngrok.io\n",
            "2021-09-14 10:50:34.056 INFO    pyngrok.process.ngrok: t=2021-09-14T10:50:34+0000 lvl=info msg=end pg=/api/tunnels id=b3d5f98661a5ec72 status=201 dur=144.439818ms\n",
            "2021-09-14 10:50:34.058 INFO    pyngrok.process.ngrok: t=2021-09-14T10:50:34+0000 lvl=info msg=start pg=\"/api/tunnels/http-80-df1e6a7b-5b00-46c1-9a78-b454876a737a (http)\" id=f5a28fec2cf82f85\n",
            "2021-09-14 10:50:34.060 INFO    pyngrok.process.ngrok: t=2021-09-14T10:50:34+0000 lvl=info msg=end pg=\"/api/tunnels/http-80-df1e6a7b-5b00-46c1-9a78-b454876a737a (http)\" id=f5a28fec2cf82f85 status=200 dur=150.802µs\n"
          ]
        }
      ]
    }
  ]
}